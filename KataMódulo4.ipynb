{
 "cells": [
  {
   "cell_type": "code",
   "execution_count": null,
   "metadata": {},
   "outputs": [],
   "source": [
    "text = \"\"\"Interesting facts about the Moon. The Moon is Earth's only satellite. There are several interesting facts about the Moon and how it affects life here on Earth. \n",
    "On average, the Moon moves 4cm away from the Earth every year. This yearly drift is not significant enough to cause immediate effects on Earth. The highest daylight temperature of the Moon is 127 C.\"\"\""
   ]
  },
  {
   "cell_type": "markdown",
   "metadata": {},
   "source": [
    "#Dividir Texto por oración"
   ]
  },
  {
   "cell_type": "code",
   "execution_count": null,
   "metadata": {},
   "outputs": [],
   "source": [
    "text = \"\"\"Interesting facts about the Moon. The Moon is Earth's only satellite. There are several interesting facts about the Moon and how it affects life here on Earth. \n",
    "On average, the Moon moves 4cm away from the Earth every year. This yearly drift is not significant enough to cause immediate effects on Earth. The highest daylight temperature of the Moon is 127 C.\"\"\"\n",
    "\n",
    "splitedText= text.split('.')\n",
    "\n",
    "#Encontrar palabras clave en el splited_text, y cambiar C's a Celsius\n",
    "keyWords= ['average', 'temperature','distance']\n",
    "\n",
    "for oraciones in splitedText:\n",
    "    for words in keyWords:\n",
    "        if words in oraciones:\n",
    "            print(oraciones.replace('C','Ceslius'))\n",
    "            break"
   ]
  },
  {
   "cell_type": "markdown",
   "metadata": {},
   "source": [
    "## Ejercicio 2, fromateando cadenas\n"
   ]
  },
  {
   "cell_type": "code",
   "execution_count": 3,
   "metadata": {},
   "outputs": [
    {
     "name": "stdout",
     "output_type": "stream",
     "text": [
      "Hechos de gravedad de la Luna\n",
      "-------------------------------------------------------------------------------\n",
      "Luna = Luna\n",
      "Gravedad = 1.6199999999999999 m/s\n",
      "Planeta = Tierra\n",
      "\n",
      "Hechos de gravedad de la Luna\n",
      "-------------------------------------------------------------------------------\n",
      "Luna = Ganímides\n",
      "Gravedad = 1.4300000000000002 m/s\n",
      "Planeta = Marte\n",
      "\n"
     ]
    }
   ],
   "source": [
    "#Este es el resultado que debe dar en consola:\n",
    "\n",
    "#Gravity Facts about Ganymede\n",
    "#-------------------------------------------------------------------------------\n",
    "#Planet Name: Mars\n",
    "#Gravity on Ganymede: 1.4300000000000002 m/s2''''\n",
    "\n",
    "#Datos con los que se trabajan\n",
    "name= 'Luna'\n",
    "gravitiy= 0.00162 #in kms\n",
    "planet= 'Tierra'\n",
    "\n",
    "title= f'Hechos de gravedad de la {name}'\n",
    "separator= '-------------------------------------------------------------------------------'\n",
    "plantilla = f'{title}' + f'\\n{separator}'+ f'\\nLuna = {name}' +  f'\\nGravedad = {gravitiy * 1000} m/s' + f'\\nPlaneta = {planet}\\n'\n",
    "\n",
    "print(plantilla)\n",
    "\n",
    "#Nuevos Datos muestra\n",
    "name = 'Ganímides'\n",
    "gravitiy= 0.00143\n",
    "planet='Marte'\n",
    "\n",
    "nuevaPlantilla = f'{title}' + f'\\n{separator}'+ f'\\nLuna = {name}' +  f'\\nGravedad = {gravitiy * 1000} m/s' + f'\\nPlaneta = {planet}\\n'\n",
    "print(nuevaPlantilla)"
   ]
  }
 ],
 "metadata": {
  "interpreter": {
   "hash": "f0d49ee18475cdad0c489d02f0bbc65384332974b8c06f08869e785b0d19d769"
  },
  "kernelspec": {
   "display_name": "Python 3.9.9 64-bit",
   "language": "python",
   "name": "python3"
  },
  "language_info": {
   "codemirror_mode": {
    "name": "ipython",
    "version": 3
   },
   "file_extension": ".py",
   "mimetype": "text/x-python",
   "name": "python",
   "nbconvert_exporter": "python",
   "pygments_lexer": "ipython3",
   "version": "3.9.9"
  },
  "orig_nbformat": 4
 },
 "nbformat": 4,
 "nbformat_minor": 2
}

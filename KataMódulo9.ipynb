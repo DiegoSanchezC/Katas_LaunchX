{
 "cells": [
  {
   "cell_type": "markdown",
   "metadata": {},
   "source": [
    "## Ejercicio1: Uso de funciones en Python\n",
    "\n",
    "Trabajar con argumentos en funciones\n"
   ]
  },
  {
   "cell_type": "code",
   "execution_count": null,
   "metadata": {},
   "outputs": [],
   "source": [
    "def fuel_report(tank1,tank2,tank3):\n",
    "    total_fuel= (tank1+tank2+tank3) /3\n",
    "    return 'El combustible total es un promedio de: {}%.\\nTanque principal: {}%\\nTanque externo: {}%.\\nTanque de emergencia: {}%.'.format(total_fuel,tank1,tank2,tank3)\n",
    "\n",
    "print(fuel_report(50,25,100))\n"
   ]
  },
  {
   "cell_type": "markdown",
   "metadata": {},
   "source": [
    "## Ejercicio 2: Trabajo con argumentos de palabra clave"
   ]
  },
  {
   "cell_type": "code",
   "execution_count": null,
   "metadata": {},
   "outputs": [],
   "source": [
    "def detailed_report(pre_launch_time,flight_time,destination,tank1,tank2):\n",
    "    return 'Destino :{}.\\nTiempo de vuelo: {}min.\\nCombustible: {}l.'.format(destination,(flight_time + pre_launch_time),(tank1+tank2))\n",
    "\n",
    "\n",
    "def detailed_report2(destiny, *time_flight, **tanks):\n",
    "    main_d_report= 'Destino :{}.\\nTiempo de vuelo: {}min.\\nCombustible: {}l.'.format(destiny,(sum(time_flight)),sum(tanks.values()))\n",
    "    for tank, liters in tanks.items():\n",
    "        main_d_report += '\\n{}: {}l.'.format(tank,liters)\n",
    "    return main_d_report\n",
    "\n",
    "\n",
    "print(detailed_report2('jupiter',16660,1500,tank1=100,tank2=75))"
   ]
  }
 ],
 "metadata": {
  "interpreter": {
   "hash": "f0d49ee18475cdad0c489d02f0bbc65384332974b8c06f08869e785b0d19d769"
  },
  "kernelspec": {
   "display_name": "Python 3.9.9 64-bit",
   "language": "python",
   "name": "python3"
  },
  "language_info": {
   "codemirror_mode": {
    "name": "ipython",
    "version": 3
   },
   "file_extension": ".py",
   "mimetype": "text/x-python",
   "name": "python",
   "nbconvert_exporter": "python",
   "pygments_lexer": "ipython3",
   "version": "3.9.9"
  },
  "orig_nbformat": 4
 },
 "nbformat": 4,
 "nbformat_minor": 2
}

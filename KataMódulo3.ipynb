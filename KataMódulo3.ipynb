{
 "cells": [
  {
   "cell_type": "markdown",
   "metadata": {},
   "source": [
    "#Un asteroide se acerca, necesitas añadir advertencias si este representa un\n",
    "peligro. Si este está a una velocidad superior 25k/s, advertir de riesgo."
   ]
  },
  {
   "cell_type": "code",
   "execution_count": 14,
   "metadata": {},
   "outputs": [
    {
     "name": "stdout",
     "output_type": "stream",
     "text": [
      "¡Peligro, asteroide aproximándose a una velocidad mayor a 25km/s!\n"
     ]
    }
   ],
   "source": [
    "asteroid= 49\n",
    "\n",
    "if asteroid > 25:\n",
    "    advertencia= True\n",
    "    if advertencia == True:\n",
    "        print('¡Peligro, asteroide aproximándose a una velocidad mayor a 25km/s!')\n",
    "else:\n",
    "    advertencia= False\n",
    "    print('Parámetros por debajo de lo establecido, no hay riesgo')    \n"
   ]
  },
  {
   "cell_type": "markdown",
   "metadata": {},
   "source": [
    "#Un asteroide se dirige a la Tierra a una velocidad de 19km/s, si uno va  a 20km/s se puede observar un rayo de luz."
   ]
  },
  {
   "cell_type": "code",
   "execution_count": 15,
   "metadata": {},
   "outputs": [
    {
     "name": "stdout",
     "output_type": "stream",
     "text": [
      "Asteroide no visible\n"
     ]
    }
   ],
   "source": [
    "asteroid= 19\n",
    "\n",
    "visibleLight= False\n",
    "\n",
    "if asteroid >= 20:\n",
    "    visibleLight= True\n",
    "    if visibleLight== True:\n",
    "        print('Se advierte a la comunidad que un asteroide es visible')\n",
    "else:\n",
    "    visibleLight= False\n",
    "    print('Asteroide no visible')     "
   ]
  },
  {
   "cell_type": "markdown",
   "metadata": {},
   "source": [
    "#Mejores parámetros de advertencia:\n",
    "Si el asteroide mide menosde 25m, probablemente se quemarán a maedida que entren a la atmósfera\n",
    "Si una pieza de asteroide es más grande que 25, pero más pequeña que 1000m golpeara a la Tierra, causaría mucho daño\n",
    "\n",
    "La velocidad del asteroide varía ne función de lo cerca que esté del sol, y cualquier velocidad superior a 24kms, merece advertencia.\n"
   ]
  },
  {
   "cell_type": "code",
   "execution_count": 31,
   "metadata": {},
   "outputs": [
    {
     "name": "stdout",
     "output_type": "stream",
     "text": [
      "No hay de que preocuparse\n",
      "Será Visible: False\n"
     ]
    }
   ],
   "source": [
    "asteroidSize= 20\n",
    "asteroidVelocitity= 20\n",
    "visibleLight= False\n",
    "\n",
    "if asteroidSize > 25 and asteroidVelocitity > 25:\n",
    "    print('ADVERTENCIA = La Tierra está en peligro!, asteroide de dimensiones grandes y con una velocidad superior a 25km/s')\n",
    "    visibleLight= True\n",
    "    print('Será Visible: ' + str(visibleLight))\n",
    "elif asteroidSize < 25 and asteroidVelocitity >25:\n",
    "    visibleLight= True\n",
    "    print('Será Visible: ' + str(visibleLight))\n",
    "    print('ADVERTENCIA = Asteroide menor de 25m dirigiéndose a la Tierra a 25km/s')\n",
    "elif asteroidSize > 25 and asteroidVelocitity < 25:\n",
    "    if asteroidVelocitity <= 19:\n",
    "        visibleLight= False\n",
    "    print('Será Visible: ' + str(visibleLight))\n",
    "    print('ADVERTENCIA = Asteroide de grandes dimensiones dirigiéndose a la Tierra a menos de 25km/s')\n",
    "elif asteroidSize < 25 and asteroidVelocitity < 25:\n",
    "        print('No hay de que preocuparse')\n",
    "        if asteroidVelocitity > 19:\n",
    "            visibleLight= False\n",
    "        print('Será Visible: ' + str(visibleLight))"
   ]
  }
 ],
 "metadata": {
  "interpreter": {
   "hash": "f0d49ee18475cdad0c489d02f0bbc65384332974b8c06f08869e785b0d19d769"
  },
  "kernelspec": {
   "display_name": "Python 3.9.9 64-bit",
   "language": "python",
   "name": "python3"
  },
  "language_info": {
   "codemirror_mode": {
    "name": "ipython",
    "version": 3
   },
   "file_extension": ".py",
   "mimetype": "text/x-python",
   "name": "python",
   "nbconvert_exporter": "python",
   "pygments_lexer": "ipython3",
   "version": "3.9.9"
  },
  "orig_nbformat": 4
 },
 "nbformat": 4,
 "nbformat_minor": 2
}

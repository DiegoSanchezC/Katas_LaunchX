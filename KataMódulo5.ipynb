{
 "cells": [
  {
   "cell_type": "markdown",
   "metadata": {},
   "source": [
    "## Ejercicio 1 - Operadores aritméticos "
   ]
  },
  {
   "cell_type": "code",
   "execution_count": null,
   "metadata": {},
   "outputs": [],
   "source": [
    "distanciaTierra=149597870 #km\n",
    "distanciaJupiter=778547200 #km\n",
    "\n",
    "distancia= (distanciaJupiter - distanciaTierra)\n",
    "print(distancia)\n",
    "#En millas \n",
    "print(distancia  * 0.621)"
   ]
  },
  {
   "cell_type": "markdown",
   "metadata": {},
   "source": [
    "## Ejercicio 2 -  Convierte strings en números y usa valores absolutos\n"
   ]
  },
  {
   "cell_type": "code",
   "execution_count": 14,
   "metadata": {},
   "outputs": [
    {
     "name": "stdout",
     "output_type": "stream",
     "text": [
      "720700000\n"
     ]
    }
   ],
   "source": [
    "#Tabal de distancias comentadas en km\n",
    "#PLANETAS----DISTANCIAS\n",
    "#Mercurio----57900000\n",
    "#Venus-------108200000\n",
    "#Tierra------149600000\n",
    "#Marte-------227900000\n",
    "#Jupiter-----778600000\n",
    "#Saturno-----1433500000\n",
    "#Urano-------2872500000\n",
    "#Neptuno-----4495100000\n",
    "\n",
    "#Input usuario en km\n",
    "firstPlanet= int(input('Introduce la distancia del primer planeta con respecto al sol'))\n",
    "secondPLanet= int(input('Introduce la distancia del primer planeta con respecto al sol'))\n",
    "\n",
    "distancia = firstPlanet - secondPLanet\n",
    "print(distancia)\n",
    "distanciaMi= distancia * 0.621\n",
    "print(distanciaMi)"
   ]
  }
 ],
 "metadata": {
  "interpreter": {
   "hash": "f0d49ee18475cdad0c489d02f0bbc65384332974b8c06f08869e785b0d19d769"
  },
  "kernelspec": {
   "display_name": "Python 3.9.9 64-bit",
   "language": "python",
   "name": "python3"
  },
  "language_info": {
   "codemirror_mode": {
    "name": "ipython",
    "version": 3
   },
   "file_extension": ".py",
   "mimetype": "text/x-python",
   "name": "python",
   "nbconvert_exporter": "python",
   "pygments_lexer": "ipython3",
   "version": "3.9.9"
  },
  "orig_nbformat": 4
 },
 "nbformat": 4,
 "nbformat_minor": 2
}

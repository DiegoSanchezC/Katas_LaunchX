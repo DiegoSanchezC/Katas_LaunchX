{
 "cells": [
  {
   "cell_type": "markdown",
   "metadata": {},
   "source": [
    "## Ejercicio 1: Creación Bucle 'WHILE'\n",
    "# Ejercicio 2: Utilizando ciclo 'FOR'"
   ]
  },
  {
   "cell_type": "code",
   "execution_count": null,
   "metadata": {},
   "outputs": [],
   "source": [
    "new_planet=''\n",
    "planets=[]\n",
    "\n",
    "while new_planet != 'done':\n",
    "    new_planet=input('Escribe un nombre para un planeta.\\nSi deseas finalizar el programa, escribe la palabra \"done\".')\n",
    "    if new_planet != '' and new_planet != 'done':\n",
    "        planets.append(new_planet)\n",
    "    elif new_planet == 'done':\n",
    "        break\n",
    "    elif new_planet == '':\n",
    "        new_planet=input('Escribe un nombre para un planeta./nSi deseas finalizar el programa, escribe la palabra \"done\".')\n",
    "\n",
    "#Utilizando Ciclo For\n",
    "for planet in planets:\n",
    "    print(planet)          \n",
    "\n"
   ]
  }
 ],
 "metadata": {
  "interpreter": {
   "hash": "f0d49ee18475cdad0c489d02f0bbc65384332974b8c06f08869e785b0d19d769"
  },
  "kernelspec": {
   "display_name": "Python 3.9.9 64-bit",
   "language": "python",
   "name": "python3"
  },
  "language_info": {
   "codemirror_mode": {
    "name": "ipython",
    "version": 3
   },
   "file_extension": ".py",
   "mimetype": "text/x-python",
   "name": "python",
   "nbconvert_exporter": "python",
   "pygments_lexer": "ipython3",
   "version": "3.9.9"
  },
  "orig_nbformat": 4
 },
 "nbformat": 4,
 "nbformat_minor": 2
}

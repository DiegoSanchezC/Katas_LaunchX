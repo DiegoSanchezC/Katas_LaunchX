{
 "cells": [
  {
   "cell_type": "markdown",
   "metadata": {},
   "source": [
    "## Ejercicio 1: Creación de diccionaros de Python"
   ]
  },
  {
   "cell_type": "code",
   "execution_count": null,
   "metadata": {},
   "outputs": [],
   "source": [
    "planet={\n",
    "    'name':'Marte',\n",
    "    'moons':'2'\n",
    "}\n",
    "#Enseñar nombre planeta\n",
    "print(planet['name'])\n",
    "#Enseñar número de lunas \n",
    "print('no. de lunas: ' + planet['moons'])\n",
    "\n",
    "planet['circunferencia (km)']={\n",
    "    'polar':6752,\n",
    "    'equatorial': 6792\n",
    "}\n",
    "#Mostrar las circunferencias \n",
    "print('El planeta {} tiene una circunferencia polar de: {}, y una circunferencia ecuatorial de: {}.'.format(planet['name'],planet['circunferencia (km)']['polar'],planet['circunferencia (km)']['equatorial']))"
   ]
  },
  {
   "cell_type": "markdown",
   "metadata": {},
   "source": [
    "## Ejercicio 2: Progamación dinámica con diccionarios\n",
    "Cálculo dde valores"
   ]
  },
  {
   "cell_type": "code",
   "execution_count": null,
   "metadata": {},
   "outputs": [],
   "source": [
    "#Planetas y sus lunas\n",
    "\n",
    "planet_moons={\n",
    "    'mercury':0,\n",
    "    'venus':0,\n",
    "    'earth':1,\n",
    "    'mars':2,\n",
    "    'jupiter':79,\n",
    "    'saturn':82,\n",
    "    'uranus':27,\n",
    "    'neptune':14,\n",
    "    'pluto':5,\n",
    "    'haumea':2,\n",
    "    'makemake':1,\n",
    "    'eris':1\n",
    "}\n",
    "\n",
    "#Creando un array para los values\n",
    "moons= planet_moons.values()\n",
    "\n",
    "#Determinando cuantas keys hay\n",
    "planets=len(planet_moons.keys())\n",
    "\n",
    "total_moons=0\n",
    "for luna in moons:\n",
    "    total_moons= total_moons + luna\n",
    "\n",
    "promedio= total_moons / planets\n",
    "\n",
    "print(promedio)\n",
    "\n",
    "\n"
   ]
  }
 ],
 "metadata": {
  "interpreter": {
   "hash": "f0d49ee18475cdad0c489d02f0bbc65384332974b8c06f08869e785b0d19d769"
  },
  "kernelspec": {
   "display_name": "Python 3.9.9 64-bit",
   "language": "python",
   "name": "python3"
  },
  "language_info": {
   "codemirror_mode": {
    "name": "ipython",
    "version": 3
   },
   "file_extension": ".py",
   "mimetype": "text/x-python",
   "name": "python",
   "nbconvert_exporter": "python",
   "pygments_lexer": "ipython3",
   "version": "3.9.9"
  },
  "orig_nbformat": 4
 },
 "nbformat": 4,
 "nbformat_minor": 2
}

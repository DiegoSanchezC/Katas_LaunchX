{
 "cells": [
  {
   "cell_type": "markdown",
   "metadata": {},
   "source": [
    "## Ejercicio 1 - Crear y usar listas en Python\n"
   ]
  },
  {
   "cell_type": "code",
   "execution_count": null,
   "metadata": {},
   "outputs": [],
   "source": [
    "planets=['Mercurio','Venus','Tierra','Marte','Jupiter','Saturno','Urano','Neptuno']\n",
    "print('Existen: ' + str(len(planets)) + ' planets')\n",
    "#Agregar a pluton a la Lista\n",
    "planets.append('Pluton')\n",
    "print('El último en integrarse fue: ' + planets[-1])"
   ]
  },
  {
   "cell_type": "markdown",
   "metadata": {},
   "source": [
    "## Ejercicio 2 - Trabajando con datos de una Lista\n",
    "Usar slices para recuperar partes de una lista"
   ]
  },
  {
   "cell_type": "code",
   "execution_count": null,
   "metadata": {},
   "outputs": [],
   "source": [
    "planets=['Mercurio','Venus','Tierra','Marte','Jupiter','Saturno','Urano','Neptuno']\n",
    "\n",
    "#Solicitar al usuario el nombre de un planeta\n",
    "userInput= input('Introduzca el nombre de un planeta (Use letras mayúsuclas para el Inicio de los nombres)')\n",
    "planetIndex= planets.index(userInput)\n",
    "\n",
    "print('Planetas más cercanos al sol que ' + userInput + ':')\n",
    "print(planets[0:planetIndex])\n",
    "print('Planetas más lejanos al sol que ' + userInput + ':')\n",
    "print(planets[planetIndex + 1:])"
   ]
  }
 ],
 "metadata": {
  "interpreter": {
   "hash": "f0d49ee18475cdad0c489d02f0bbc65384332974b8c06f08869e785b0d19d769"
  },
  "kernelspec": {
   "display_name": "Python 3.9.9 64-bit",
   "language": "python",
   "name": "python3"
  },
  "language_info": {
   "codemirror_mode": {
    "name": "ipython",
    "version": 3
   },
   "file_extension": ".py",
   "mimetype": "text/x-python",
   "name": "python",
   "nbconvert_exporter": "python",
   "pygments_lexer": "ipython3",
   "version": "3.9.9"
  },
  "orig_nbformat": 4
 },
 "nbformat": 4,
 "nbformat_minor": 2
}
